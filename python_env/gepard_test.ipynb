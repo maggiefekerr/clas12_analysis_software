{
 "cells": [
  {
   "cell_type": "code",
   "execution_count": 5,
   "id": "3d5e184c-2198-43ae-b1c2-2e55946a0e80",
   "metadata": {},
   "outputs": [
    {
     "name": "stdout",
     "output_type": "stream",
     "text": [
      "Hello from Gepard!\n"
     ]
    }
   ],
   "source": [
    "import gepard\n",
    "import numpy as np\n",
    "\n",
    "print(\"Hello from Gepard!\")"
   ]
  },
  {
   "cell_type": "markdown",
   "id": "b07042d6-1ea3-42d1-b300-dc5f665c122d",
   "metadata": {},
   "source": [
    "# My Analysis\n",
    "Here is an equation: $\\alpha^2 + \\beta^2 = \\gamma^2$."
   ]
  },
  {
   "cell_type": "code",
   "execution_count": null,
   "id": "9e5c7374-e27a-4d28-bba3-68abe3c1e7ca",
   "metadata": {},
   "outputs": [],
   "source": []
  }
 ],
 "metadata": {
  "kernelspec": {
   "display_name": "Python 3 (ipykernel)",
   "language": "python",
   "name": "python3"
  },
  "language_info": {
   "codemirror_mode": {
    "name": "ipython",
    "version": 3
   },
   "file_extension": ".py",
   "mimetype": "text/x-python",
   "name": "python",
   "nbconvert_exporter": "python",
   "pygments_lexer": "ipython3",
   "version": "3.12.2"
  }
 },
 "nbformat": 4,
 "nbformat_minor": 5
}
